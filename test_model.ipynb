{
 "cells": [
  {
   "cell_type": "code",
   "execution_count": 4,
   "id": "d22ef5c7",
   "metadata": {},
   "outputs": [],
   "source": [
    "import numpy as np\n",
    "from typing import List\n",
    "\n",
    "m, n = 10, 10"
   ]
  },
  {
   "cell_type": "code",
   "execution_count": 3,
   "id": "750a72c3",
   "metadata": {},
   "outputs": [],
   "source": [
    "def sigmoid(z):\n",
    "    return 1/(1+np.exp(-z))"
   ]
  },
  {
   "cell_type": "code",
   "execution_count": 6,
   "id": "8167d3b4",
   "metadata": {},
   "outputs": [],
   "source": [
    "def loss_function(x,y,w,b):\n",
    "    m,n = x.shape\n",
    "    loss_sum = 0\n",
    "\n",
    "    for i in range(m):\n",
    "        z = np.dot(w,x[i]) + b\n",
    "        g = sigmoid(z)\n",
    "\n",
    "        loss_sum += -y[i] * np.log(g) - (1-y[i]) * np.log(1-g)\n",
    "\n",
    "    return (1/m) * loss_sum"
   ]
  },
  {
   "cell_type": "code",
   "execution_count": 18,
   "id": "ad54dfb3",
   "metadata": {},
   "outputs": [],
   "source": [
    "def gradient_fun(x,y,w,b):\n",
    "    m,n = x.shape\n",
    "    grad_w = np.zeros(n)\n",
    "    grad_b = 0\n",
    "\n",
    "    for i in range(m):\n",
    "        z = np.dot(w, x[i]) + b\n",
    "        g = sigmoid(z)\n",
    "\n",
    "        grad_b += (g - y[i])\n",
    "\n",
    "        for j in range(n):\n",
    "            grad_w[j] = (g-y[i]) * x[i,j]\n",
    "    \n",
    "    grad_w = (1/m) * grad_w\n",
    "    grad_b = (1/m) * grad_b\n",
    "\n",
    "    return grad_w, grad_b\n",
    "        "
   ]
  },
  {
   "cell_type": "code",
   "execution_count": 19,
   "id": "4280a86c",
   "metadata": {},
   "outputs": [],
   "source": [
    "def gradient_decent(x,y,alpha, itteration):\n",
    "    m,n = x.shape\n",
    "    w = np.zeros(n)\n",
    "    b  = 0\n",
    "\n",
    "    for i in range(itteration):\n",
    "        grad_w,grad_b = gradient_fun(x,y,w,b)\n",
    "\n",
    "        w -= alpha * grad_w\n",
    "        b -= alpha * grad_b\n",
    "\n",
    "        if i % 1000 == 0:\n",
    "            print(f\"Loss at {i} - {loss_function(x,y,w,b)}\")\n",
    "    \n",
    "    return w,b\n"
   ]
  },
  {
   "cell_type": "code",
   "execution_count": 24,
   "id": "0308750f",
   "metadata": {},
   "outputs": [],
   "source": [
    "def predict(x,w,b, y):\n",
    "    m,n = x.shape\n",
    "    predic = np.zeros(m)\n",
    "\n",
    "    for i in range(m):\n",
    "        z = np.dot(w,x[i]) + b\n",
    "        g = sigmoid(z)\n",
    "\n",
    "        predic[i] = 1 if g > 0.5 else 0\n",
    "    \n",
    "    accuracy = np.mean(y == predic) * 100\n",
    "\n",
    "    return accuracy"
   ]
  },
  {
   "cell_type": "code",
   "execution_count": 28,
   "id": "f1fc6e3e",
   "metadata": {},
   "outputs": [],
   "source": [
    "alpha = 0.01\n",
    "itteration = 10000"
   ]
  },
  {
   "cell_type": "code",
   "execution_count": 26,
   "id": "def454ff",
   "metadata": {},
   "outputs": [
    {
     "name": "stdout",
     "output_type": "stream",
     "text": [
      "Loss at 0 - 0.6842622064544926\n",
      "Loss at 1000 - 0.34558646206950466\n",
      "Loss at 2000 - 0.25867556511704143\n",
      "Loss at 3000 - 0.22113461606072923\n",
      "Loss at 4000 - 0.20082531348495603\n",
      "Loss at 5000 - 0.1880578118788917\n",
      "Loss at 6000 - 0.17920114754576344\n",
      "Loss at 7000 - 0.17262827394914637\n"
     ]
    },
    {
     "name": "stdout",
     "output_type": "stream",
     "text": [
      "Loss at 8000 - 0.16750874012544914\n",
      "Loss at 9000 - 0.16337551753744456\n"
     ]
    }
   ],
   "source": [
    "w, b = gradient_decent(X,y,alpha,itteration)"
   ]
  },
  {
   "cell_type": "code",
   "execution_count": 27,
   "id": "4b62ab6f",
   "metadata": {},
   "outputs": [
    {
     "name": "stdout",
     "output_type": "stream",
     "text": [
      "100.0\n"
     ]
    }
   ],
   "source": [
    "accuracy = predict(X,w,b,y)\n",
    "\n",
    "print(accuracy)"
   ]
  },
  {
   "cell_type": "code",
   "execution_count": null,
   "id": "5b4c23d8",
   "metadata": {},
   "outputs": [],
   "source": []
  }
 ],
 "metadata": {
  "language_info": {
   "name": "python"
  }
 },
 "nbformat": 4,
 "nbformat_minor": 5
}
